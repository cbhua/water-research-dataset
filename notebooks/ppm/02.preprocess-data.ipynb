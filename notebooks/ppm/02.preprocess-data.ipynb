{
 "cells": [
  {
   "cell_type": "code",
   "execution_count": 1,
   "metadata": {},
   "outputs": [],
   "source": [
    "# Packages\n",
    "import pandas as pd\n",
    "\n",
    "# Repository root path\n",
    "root = 2 * \"../\""
   ]
  },
  {
   "cell_type": "markdown",
   "metadata": {},
   "source": [
    "### Process hourly data missing values"
   ]
  },
  {
   "cell_type": "code",
   "execution_count": 16,
   "metadata": {},
   "outputs": [
    {
     "name": "stdout",
     "output_type": "stream",
     "text": [
      "Hour Data Range: 2016-01-01 12:00:00 ~ 2021-12-31 23:00:00\n",
      "Hour Data Shape: (52596, 13)\n"
     ]
    },
    {
     "data": {
      "text/html": [
       "<div>\n",
       "<style scoped>\n",
       "    .dataframe tbody tr th:only-of-type {\n",
       "        vertical-align: middle;\n",
       "    }\n",
       "\n",
       "    .dataframe tbody tr th {\n",
       "        vertical-align: top;\n",
       "    }\n",
       "\n",
       "    .dataframe thead th {\n",
       "        text-align: right;\n",
       "    }\n",
       "</style>\n",
       "<table border=\"1\" class=\"dataframe\">\n",
       "  <thead>\n",
       "    <tr style=\"text-align: right;\">\n",
       "      <th></th>\n",
       "      <th>DateTime</th>\n",
       "      <th>Raw_Flow</th>\n",
       "      <th>Raw_temperature</th>\n",
       "      <th>Raw_electrical conductivity</th>\n",
       "      <th>Raw_turbidity</th>\n",
       "      <th>Raw_alkalinity</th>\n",
       "      <th>Raw_pH</th>\n",
       "      <th>Raw_TOC</th>\n",
       "      <th>PAC</th>\n",
       "      <th>Pre_chlorine</th>\n",
       "      <th>Sed_chlorine</th>\n",
       "      <th>Sed_turbidity</th>\n",
       "      <th>Mid_chlorine</th>\n",
       "    </tr>\n",
       "  </thead>\n",
       "  <tbody>\n",
       "    <tr>\n",
       "      <th>0</th>\n",
       "      <td>2016-01-01 12:00:00</td>\n",
       "      <td>2375.00</td>\n",
       "      <td>8.907143</td>\n",
       "      <td>186.921133</td>\n",
       "      <td>1.928125</td>\n",
       "      <td>33.250446</td>\n",
       "      <td>7.175125</td>\n",
       "      <td>1.668937</td>\n",
       "      <td>10.961077</td>\n",
       "      <td>2.291607</td>\n",
       "      <td>1.038750</td>\n",
       "      <td>0.270000</td>\n",
       "      <td>0.513036</td>\n",
       "    </tr>\n",
       "    <tr>\n",
       "      <th>1</th>\n",
       "      <td>2016-01-01 13:00:00</td>\n",
       "      <td>2576.25</td>\n",
       "      <td>8.935417</td>\n",
       "      <td>185.874105</td>\n",
       "      <td>1.697917</td>\n",
       "      <td>35.263333</td>\n",
       "      <td>7.170042</td>\n",
       "      <td>1.668937</td>\n",
       "      <td>10.942969</td>\n",
       "      <td>2.291667</td>\n",
       "      <td>1.050667</td>\n",
       "      <td>0.270000</td>\n",
       "      <td>0.530000</td>\n",
       "    </tr>\n",
       "    <tr>\n",
       "      <th>2</th>\n",
       "      <td>2016-01-01 14:00:00</td>\n",
       "      <td>2586.25</td>\n",
       "      <td>8.954167</td>\n",
       "      <td>187.624267</td>\n",
       "      <td>1.859167</td>\n",
       "      <td>32.963750</td>\n",
       "      <td>7.162517</td>\n",
       "      <td>1.668937</td>\n",
       "      <td>10.876959</td>\n",
       "      <td>2.291167</td>\n",
       "      <td>1.064333</td>\n",
       "      <td>0.270000</td>\n",
       "      <td>0.533000</td>\n",
       "    </tr>\n",
       "    <tr>\n",
       "      <th>3</th>\n",
       "      <td>2016-01-01 15:00:00</td>\n",
       "      <td>2525.00</td>\n",
       "      <td>8.957083</td>\n",
       "      <td>185.638802</td>\n",
       "      <td>2.089167</td>\n",
       "      <td>33.228750</td>\n",
       "      <td>7.173308</td>\n",
       "      <td>1.668937</td>\n",
       "      <td>10.994690</td>\n",
       "      <td>2.291167</td>\n",
       "      <td>1.030000</td>\n",
       "      <td>0.270333</td>\n",
       "      <td>0.525500</td>\n",
       "    </tr>\n",
       "    <tr>\n",
       "      <th>4</th>\n",
       "      <td>2016-01-01 16:00:00</td>\n",
       "      <td>2455.00</td>\n",
       "      <td>8.956667</td>\n",
       "      <td>183.033574</td>\n",
       "      <td>2.204167</td>\n",
       "      <td>32.404167</td>\n",
       "      <td>7.182467</td>\n",
       "      <td>1.668937</td>\n",
       "      <td>11.109072</td>\n",
       "      <td>2.293167</td>\n",
       "      <td>1.016500</td>\n",
       "      <td>0.271500</td>\n",
       "      <td>0.534500</td>\n",
       "    </tr>\n",
       "  </tbody>\n",
       "</table>\n",
       "</div>"
      ],
      "text/plain": [
       "              DateTime  Raw_Flow  Raw_temperature  \\\n",
       "0  2016-01-01 12:00:00   2375.00         8.907143   \n",
       "1  2016-01-01 13:00:00   2576.25         8.935417   \n",
       "2  2016-01-01 14:00:00   2586.25         8.954167   \n",
       "3  2016-01-01 15:00:00   2525.00         8.957083   \n",
       "4  2016-01-01 16:00:00   2455.00         8.956667   \n",
       "\n",
       "   Raw_electrical conductivity  Raw_turbidity  Raw_alkalinity    Raw_pH  \\\n",
       "0                   186.921133       1.928125       33.250446  7.175125   \n",
       "1                   185.874105       1.697917       35.263333  7.170042   \n",
       "2                   187.624267       1.859167       32.963750  7.162517   \n",
       "3                   185.638802       2.089167       33.228750  7.173308   \n",
       "4                   183.033574       2.204167       32.404167  7.182467   \n",
       "\n",
       "    Raw_TOC        PAC  Pre_chlorine  Sed_chlorine  Sed_turbidity  \\\n",
       "0  1.668937  10.961077      2.291607      1.038750       0.270000   \n",
       "1  1.668937  10.942969      2.291667      1.050667       0.270000   \n",
       "2  1.668937  10.876959      2.291167      1.064333       0.270000   \n",
       "3  1.668937  10.994690      2.291167      1.030000       0.270333   \n",
       "4  1.668937  11.109072      2.293167      1.016500       0.271500   \n",
       "\n",
       "   Mid_chlorine  \n",
       "0      0.513036  \n",
       "1      0.530000  \n",
       "2      0.533000  \n",
       "3      0.525500  \n",
       "4      0.534500  "
      ]
     },
     "execution_count": 16,
     "metadata": {},
     "output_type": "execute_result"
    }
   ],
   "source": [
    "# Load the hourly data\n",
    "hour_data = pd.read_csv(root + \"data/ppm/ori/hour.csv\")\n",
    "\n",
    "print(f\"Hour Data Range: {hour_data['DateTime'][0]} ~ {hour_data['DateTime'][hour_data.shape[0]-1]}\")\n",
    "print(f\"Hour Data Shape: {hour_data.shape}\")\n",
    "hour_data.head()"
   ]
  },
  {
   "cell_type": "code",
   "execution_count": 17,
   "metadata": {},
   "outputs": [
    {
     "data": {
      "text/plain": [
       "DateTime                          0\n",
       "Raw_Flow                       1150\n",
       "Raw_temperature                1150\n",
       "Raw_electrical conductivity    1150\n",
       "Raw_turbidity                  1150\n",
       "Raw_alkalinity                 1150\n",
       "Raw_pH                         1150\n",
       "Raw_TOC                        1150\n",
       "PAC                            1150\n",
       "Pre_chlorine                   1150\n",
       "Sed_chlorine                   1150\n",
       "Sed_turbidity                  1150\n",
       "Mid_chlorine                   1150\n",
       "dtype: int64"
      ]
     },
     "execution_count": 17,
     "metadata": {},
     "output_type": "execute_result"
    }
   ],
   "source": [
    "# Originally the hourly data contain some missing values\n",
    "hour_data.isnull().sum()"
   ]
  },
  {
   "cell_type": "code",
   "execution_count": 18,
   "metadata": {},
   "outputs": [],
   "source": [
    "# Process the missing data with repeating the last valid value\n",
    "hour_data = hour_data.ffill()"
   ]
  },
  {
   "cell_type": "code",
   "execution_count": 19,
   "metadata": {},
   "outputs": [
    {
     "data": {
      "text/plain": [
       "DateTime                       0\n",
       "Raw_Flow                       0\n",
       "Raw_temperature                0\n",
       "Raw_electrical conductivity    0\n",
       "Raw_turbidity                  0\n",
       "Raw_alkalinity                 0\n",
       "Raw_pH                         0\n",
       "Raw_TOC                        0\n",
       "PAC                            0\n",
       "Pre_chlorine                   0\n",
       "Sed_chlorine                   0\n",
       "Sed_turbidity                  0\n",
       "Mid_chlorine                   0\n",
       "dtype: int64"
      ]
     },
     "execution_count": 19,
     "metadata": {},
     "output_type": "execute_result"
    }
   ],
   "source": [
    "# Check the missing value after the processing\n",
    "hour_data.isnull().sum()"
   ]
  },
  {
   "cell_type": "code",
   "execution_count": null,
   "metadata": {},
   "outputs": [],
   "source": [
    "# Save the processed data\n",
    "hour_data.to_csv(root + \"data/ppm/processed/hour.csv\", index=False)"
   ]
  }
 ],
 "metadata": {
  "kernelspec": {
   "display_name": "coagulant",
   "language": "python",
   "name": "python3"
  },
  "language_info": {
   "codemirror_mode": {
    "name": "ipython",
    "version": 3
   },
   "file_extension": ".py",
   "mimetype": "text/x-python",
   "name": "python",
   "nbconvert_exporter": "python",
   "pygments_lexer": "ipython3",
   "version": "3.11.0"
  }
 },
 "nbformat": 4,
 "nbformat_minor": 2
}
